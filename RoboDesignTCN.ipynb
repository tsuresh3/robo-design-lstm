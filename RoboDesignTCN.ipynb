{
 "cells": [
  {
   "cell_type": "code",
   "execution_count": 52,
   "id": "dc7170f7",
   "metadata": {},
   "outputs": [],
   "source": [
    "import torch\n",
    "from fastprogress import master_bar, progress_bar\n",
    "from sklearn.preprocessing import MinMaxScaler\n",
    "from sklearn.model_selection import train_test_split\n",
    "import numpy as np\n",
    "import torch.nn as nn\n",
    "from torch.nn.utils import weight_norm\n",
    "import torch.nn.functional as F\n",
    "from torch.autograd import Variable\n",
    "import pandas as pd\n",
    "import matplotlib.pyplot as plt\n",
    "import seaborn as sns\n",
    "from torchviz import make_dot, make_dot_from_trace\n",
    "import random"
   ]
  },
  {
   "cell_type": "code",
   "execution_count": 53,
   "id": "9fde4eb6",
   "metadata": {},
   "outputs": [],
   "source": [
    "class Chomp1d(nn.Module):\n",
    "    def __init__(self, chomp_size):\n",
    "        super(Chomp1d, self).__init__()\n",
    "        self.chomp_size = chomp_size\n",
    "\n",
    "    def forward(self, x):\n",
    "        return x[:, :, :-self.chomp_size].contiguous()\n",
    "\n",
    "\n",
    "class TemporalBlock(nn.Module):\n",
    "    def __init__(self, n_inputs, n_outputs, kernel_size, stride, dilation, padding, dropout=0.2):\n",
    "        super(TemporalBlock, self).__init__()\n",
    "        self.conv1 = weight_norm(nn.Conv1d(n_inputs, n_outputs, kernel_size,\n",
    "                                           stride=stride, padding=padding, dilation=dilation))\n",
    "        self.chomp1 = Chomp1d(padding)\n",
    "        self.relu1 = nn.ReLU()\n",
    "        self.dropout1 = nn.Dropout(dropout)\n",
    "\n",
    "        self.conv2 = weight_norm(nn.Conv1d(n_outputs, n_outputs, kernel_size,\n",
    "                                           stride=stride, padding=padding, dilation=dilation))\n",
    "        self.chomp2 = Chomp1d(padding)\n",
    "        self.relu2 = nn.ReLU()\n",
    "        self.dropout2 = nn.Dropout(dropout)\n",
    "\n",
    "        self.net = nn.Sequential(self.conv1, self.chomp1, self.relu1, self.dropout1,\n",
    "                                 self.conv2, self.chomp2, self.relu2, self.dropout2)\n",
    "        self.downsample = nn.Conv1d(n_inputs, n_outputs, 1) if n_inputs != n_outputs else None\n",
    "        self.relu = nn.ReLU()\n",
    "        self.init_weights()\n",
    "\n",
    "    def init_weights(self):\n",
    "        self.conv1.weight.data.normal_(0, 0.01)\n",
    "        self.conv2.weight.data.normal_(0, 0.01)\n",
    "        if self.downsample is not None:\n",
    "            self.downsample.weight.data.normal_(0, 0.01)\n",
    "\n",
    "    def forward(self, x):\n",
    "        out = self.net(x)\n",
    "        res = x if self.downsample is None else self.downsample(x)\n",
    "        return self.relu(out + res)\n",
    "\n",
    "\n",
    "class TemporalConvNet(nn.Module):\n",
    "    def __init__(self, num_inputs, num_channels, kernel_size=2, dropout=0.2):\n",
    "        super(TemporalConvNet, self).__init__()\n",
    "        layers = []\n",
    "        num_levels = len(num_channels)\n",
    "        for i in range(num_levels):\n",
    "            dilation_size = 2 ** i\n",
    "            in_channels = num_inputs if i == 0 else num_channels[i-1]\n",
    "            out_channels = num_channels[i]\n",
    "            layers += [TemporalBlock(in_channels, out_channels, kernel_size, stride=1, dilation=dilation_size,\n",
    "                                     padding=(kernel_size-1) * dilation_size, dropout=dropout)]\n",
    "\n",
    "        self.network = nn.Sequential(*layers)\n",
    "\n",
    "    def forward(self, x):\n",
    "        return self.network(x)"
   ]
  },
  {
   "cell_type": "code",
   "execution_count": 54,
   "id": "2f894ad4",
   "metadata": {},
   "outputs": [],
   "source": [
    "class TCNs(nn.Module):\n",
    "    def __init__(self, input_size, output_size, num_channels, kernel_size, dropout, is_sequence):\n",
    "        super(TCNs, self).__init__()\n",
    "        self.tcn = TemporalConvNet(input_size, num_channels, kernel_size, dropout=dropout)\n",
    "        self.linear = nn.Linear(num_channels[-1], output_size)\n",
    "        self.is_sequence = is_sequence\n",
    "\n",
    "    def init_weights(self):\n",
    "        self.linear.weight.data.normal_(0, 0.01)\n",
    "\n",
    "    def forward(self, inputs):\n",
    "        \"\"\"Inputs have to have dimension (N, C_in, L_in)\"\"\"\n",
    "        y1 = self.tcn(inputs)\n",
    "\n",
    "        # if we want output as the same length as the input\n",
    "        if self.is_sequence:\n",
    "            o = self.linear(y1.transpose(1, 2))\n",
    "\n",
    "        # if we only want the output from the last time step\n",
    "        else:\n",
    "            o = self.linear(y1[:, :, -1])\n",
    "        return o"
   ]
  },
  {
   "cell_type": "code",
   "execution_count": 55,
   "id": "6aa313db",
   "metadata": {},
   "outputs": [],
   "source": [
    "tcn = TCNs(2, 1, [2], 3, 0.2, True)\n",
    "history = 4\n",
    "tcn.train()\n",
    "criterion = torch.nn.MSELoss()\n",
    "optimizer = torch.optim.Adam(tcn.parameters(), lr= 1e-3,weight_decay=1e-5)\n",
    "scheduler = torch.optim.lr_scheduler.ReduceLROnPlateau(optimizer,  patience=100,factor =0.5 ,min_lr=1e-7, eps=1e-08)\n",
    "f_lst = ['des_dx', 'x', 'dx', 'torque']\n",
    "random.seed(10)"
   ]
  },
  {
   "cell_type": "code",
   "execution_count": 56,
   "id": "0288d2b5",
   "metadata": {},
   "outputs": [],
   "source": [
    "def create_df(f):\n",
    "    df = pd.DataFrame([line.strip().split() for line in f.readlines()])\n",
    "    df = df[[0, 1, 3, 6]]\n",
    "    df.columns = f_lst\n",
    "    df['vel_error'] = df['des_dx'].astype(float) - df['dx'].astype(float)\n",
    "    return df"
   ]
  },
  {
   "cell_type": "code",
   "execution_count": 57,
   "id": "b120de22",
   "metadata": {},
   "outputs": [],
   "source": [
    "def create_xy(df, h = history):\n",
    "    X = np.array(df[['x', 'vel_error']]).astype('float')\n",
    "    \n",
    "    X = np.array([[[X[i - j][k] for j in range(h - 1, -1, -1)] for k in range(2)] for i in range(h - 1, len(X))])\n",
    "    \n",
    "    \n",
    "    \n",
    "    #g = np.array([[[0, 0], [0, 0], X[0]], [[0, 0], X[0], X[1]]])\n",
    "    \n",
    "    #X = np.concatenate([g, X])\n",
    "    y = np.array(df[['torque']]).astype('float')[(h - 1):]\n",
    "    return (X, y)"
   ]
  },
  {
   "cell_type": "code",
   "execution_count": 58,
   "id": "b83a9dd8",
   "metadata": {},
   "outputs": [],
   "source": [
    "with open('/Users/tarsur909/Documents/PythonStuff/data/data1.0.txt') as f:\n",
    "        df = create_df(f)\n",
    "\n",
    "X, y = create_xy(df)\n",
    "count = 1\n",
    "#for n in range(1, 100):\n",
    "lst = [i for i in range(1, 100)]\n",
    "sample = random.sample(lst, 99)\n",
    "train = []\n",
    "test = []\n",
    "for n in sample:\n",
    "    if count <= 36:\n",
    "        try: \n",
    "            with open('/Users/tarsur909/Documents/PythonStuff/data/data0.' + str(n) + '.txt') as f:\n",
    "                temp_df = create_df(f) \n",
    "            tempX, tempy = create_xy(temp_df)\n",
    "            X = np.concatenate([X, tempX])\n",
    "            y = np.concatenate([y, tempy])\n",
    "            train.append(n)\n",
    "            count += 1\n",
    "        except:\n",
    "            continue\n",
    "    else:\n",
    "        try: \n",
    "            with open('/Users/tarsur909/Documents/PythonStuff/data/data0.' + str(n) + '.txt') as f:\n",
    "                temp_df = create_df(f)\n",
    "            test.append(n)\n",
    "        except:\n",
    "            continue\n",
    "                "
   ]
  },
  {
   "cell_type": "code",
   "execution_count": 69,
   "id": "292fd9cf",
   "metadata": {},
   "outputs": [
    {
     "data": {
      "text/plain": [
       "(8734, 1)"
      ]
     },
     "execution_count": 69,
     "metadata": {},
     "output_type": "execute_result"
    }
   ],
   "source": [
    "y.shape"
   ]
  },
  {
   "cell_type": "code",
   "execution_count": 68,
   "id": "2b71ef53",
   "metadata": {},
   "outputs": [
    {
     "data": {
      "text/plain": [
       "torch.Size([6987, 4, 1])"
      ]
     },
     "execution_count": 68,
     "metadata": {},
     "output_type": "execute_result"
    }
   ],
   "source": [
    "X_train, X_test, y_train, y_test = train_test_split(X, y, test_size = 0.2)\n",
    "    \n",
    "    \n",
    "X_train = Variable(torch.tensor(X_train))\n",
    "output = tcn(X_train.float())\n",
    "output.shape"
   ]
  },
  {
   "cell_type": "code",
   "execution_count": 62,
   "id": "34c3062a",
   "metadata": {},
   "outputs": [],
   "source": [
    "def train(model, X, y, epochs = 500, criterion = criterion, optimizer = optimizer, scheduler = scheduler):\n",
    "    X_train, X_test, y_train, y_test = train_test_split(X, y, test_size = 0.2)\n",
    "    \n",
    "    \n",
    "    X_train = Variable(torch.tensor(X_train))\n",
    "    X_test = Variable(torch.tensor(X_test))\n",
    "    y_train = Variable(torch.tensor(y_train))\n",
    "    y_test = Variable(torch.tensor(y_test))\n",
    "    \n",
    "    for i in progress_bar(range(1, 501)):\n",
    "        model.train()\n",
    "        output = model(X_train.float())\n",
    "        optimizer.zero_grad()\n",
    "        \n",
    "        loss = criterion(output, y_train.float())\n",
    "        loss.backward()\n",
    "        optimizer.step()\n",
    "        \n",
    "        lstm.eval()\n",
    "        valid = model(X_test.float())\n",
    "        val_loss = criterion(valid, y_test.float())\n",
    "        scheduler.step(val_loss)\n",
    "    \n",
    "        if i == 1 or i % 50 == 0:\n",
    "            print(\"Epoch: %d, loss: %1.5f valid loss:  %1.5f \" %(i, loss.cpu().item(),val_loss.cpu().item()))\n",
    "    "
   ]
  },
  {
   "cell_type": "code",
   "execution_count": 63,
   "id": "8778b0a2",
   "metadata": {},
   "outputs": [
    {
     "data": {
      "text/html": [
       "\n",
       "<style>\n",
       "    /* Turns off some styling */\n",
       "    progress {\n",
       "        /* gets rid of default border in Firefox and Opera. */\n",
       "        border: none;\n",
       "        /* Needs to be in here for Safari polyfill so background images work as expected. */\n",
       "        background-size: auto;\n",
       "    }\n",
       "    progress:not([value]), progress:not([value])::-webkit-progress-bar {\n",
       "        background: repeating-linear-gradient(45deg, #7e7e7e, #7e7e7e 10px, #5c5c5c 10px, #5c5c5c 20px);\n",
       "    }\n",
       "    .progress-bar-interrupted, .progress-bar-interrupted::-webkit-progress-bar {\n",
       "        background: #F44336;\n",
       "    }\n",
       "</style>\n"
      ],
      "text/plain": [
       "<IPython.core.display.HTML object>"
      ]
     },
     "metadata": {},
     "output_type": "display_data"
    },
    {
     "data": {
      "text/html": [
       "\n",
       "    <div>\n",
       "      <progress value='0' class='' max='500' style='width:300px; height:20px; vertical-align: middle;'></progress>\n",
       "      0.00% [0/500 00:00&lt;?]\n",
       "    </div>\n",
       "    "
      ],
      "text/plain": [
       "<IPython.core.display.HTML object>"
      ]
     },
     "metadata": {},
     "output_type": "display_data"
    },
    {
     "name": "stderr",
     "output_type": "stream",
     "text": [
      "/Users/tarsur909/opt/anaconda3/lib/python3.9/site-packages/torch/nn/modules/loss.py:530: UserWarning: Using a target size (torch.Size([6987, 1])) that is different to the input size (torch.Size([6987, 4, 1])). This will likely lead to incorrect results due to broadcasting. Please ensure they have the same size.\n",
      "  return F.mse_loss(input, target, reduction=self.reduction)\n"
     ]
    },
    {
     "ename": "RuntimeError",
     "evalue": "The size of tensor a (4) must match the size of tensor b (6987) at non-singleton dimension 1",
     "output_type": "error",
     "traceback": [
      "\u001b[0;31m---------------------------------------------------------------------------\u001b[0m",
      "\u001b[0;31mRuntimeError\u001b[0m                              Traceback (most recent call last)",
      "Input \u001b[0;32mIn [63]\u001b[0m, in \u001b[0;36m<cell line: 1>\u001b[0;34m()\u001b[0m\n\u001b[0;32m----> 1\u001b[0m \u001b[43mtrain\u001b[49m\u001b[43m(\u001b[49m\u001b[43mtcn\u001b[49m\u001b[43m,\u001b[49m\u001b[43m \u001b[49m\u001b[43mX\u001b[49m\u001b[43m,\u001b[49m\u001b[43m \u001b[49m\u001b[43my\u001b[49m\u001b[43m)\u001b[49m\n",
      "Input \u001b[0;32mIn [62]\u001b[0m, in \u001b[0;36mtrain\u001b[0;34m(model, X, y, epochs, criterion, optimizer, scheduler)\u001b[0m\n\u001b[1;32m     12\u001b[0m output \u001b[38;5;241m=\u001b[39m model(X_train\u001b[38;5;241m.\u001b[39mfloat())\n\u001b[1;32m     13\u001b[0m optimizer\u001b[38;5;241m.\u001b[39mzero_grad()\n\u001b[0;32m---> 15\u001b[0m loss \u001b[38;5;241m=\u001b[39m \u001b[43mcriterion\u001b[49m\u001b[43m(\u001b[49m\u001b[43moutput\u001b[49m\u001b[43m,\u001b[49m\u001b[43m \u001b[49m\u001b[43my_train\u001b[49m\u001b[38;5;241;43m.\u001b[39;49m\u001b[43mfloat\u001b[49m\u001b[43m(\u001b[49m\u001b[43m)\u001b[49m\u001b[43m)\u001b[49m\n\u001b[1;32m     16\u001b[0m loss\u001b[38;5;241m.\u001b[39mbackward()\n\u001b[1;32m     17\u001b[0m optimizer\u001b[38;5;241m.\u001b[39mstep()\n",
      "File \u001b[0;32m~/opt/anaconda3/lib/python3.9/site-packages/torch/nn/modules/module.py:1130\u001b[0m, in \u001b[0;36mModule._call_impl\u001b[0;34m(self, *input, **kwargs)\u001b[0m\n\u001b[1;32m   1126\u001b[0m \u001b[38;5;66;03m# If we don't have any hooks, we want to skip the rest of the logic in\u001b[39;00m\n\u001b[1;32m   1127\u001b[0m \u001b[38;5;66;03m# this function, and just call forward.\u001b[39;00m\n\u001b[1;32m   1128\u001b[0m \u001b[38;5;28;01mif\u001b[39;00m \u001b[38;5;129;01mnot\u001b[39;00m (\u001b[38;5;28mself\u001b[39m\u001b[38;5;241m.\u001b[39m_backward_hooks \u001b[38;5;129;01mor\u001b[39;00m \u001b[38;5;28mself\u001b[39m\u001b[38;5;241m.\u001b[39m_forward_hooks \u001b[38;5;129;01mor\u001b[39;00m \u001b[38;5;28mself\u001b[39m\u001b[38;5;241m.\u001b[39m_forward_pre_hooks \u001b[38;5;129;01mor\u001b[39;00m _global_backward_hooks\n\u001b[1;32m   1129\u001b[0m         \u001b[38;5;129;01mor\u001b[39;00m _global_forward_hooks \u001b[38;5;129;01mor\u001b[39;00m _global_forward_pre_hooks):\n\u001b[0;32m-> 1130\u001b[0m     \u001b[38;5;28;01mreturn\u001b[39;00m \u001b[43mforward_call\u001b[49m\u001b[43m(\u001b[49m\u001b[38;5;241;43m*\u001b[39;49m\u001b[38;5;28;43minput\u001b[39;49m\u001b[43m,\u001b[49m\u001b[43m \u001b[49m\u001b[38;5;241;43m*\u001b[39;49m\u001b[38;5;241;43m*\u001b[39;49m\u001b[43mkwargs\u001b[49m\u001b[43m)\u001b[49m\n\u001b[1;32m   1131\u001b[0m \u001b[38;5;66;03m# Do not call functions when jit is used\u001b[39;00m\n\u001b[1;32m   1132\u001b[0m full_backward_hooks, non_full_backward_hooks \u001b[38;5;241m=\u001b[39m [], []\n",
      "File \u001b[0;32m~/opt/anaconda3/lib/python3.9/site-packages/torch/nn/modules/loss.py:530\u001b[0m, in \u001b[0;36mMSELoss.forward\u001b[0;34m(self, input, target)\u001b[0m\n\u001b[1;32m    529\u001b[0m \u001b[38;5;28;01mdef\u001b[39;00m \u001b[38;5;21mforward\u001b[39m(\u001b[38;5;28mself\u001b[39m, \u001b[38;5;28minput\u001b[39m: Tensor, target: Tensor) \u001b[38;5;241m-\u001b[39m\u001b[38;5;241m>\u001b[39m Tensor:\n\u001b[0;32m--> 530\u001b[0m     \u001b[38;5;28;01mreturn\u001b[39;00m \u001b[43mF\u001b[49m\u001b[38;5;241;43m.\u001b[39;49m\u001b[43mmse_loss\u001b[49m\u001b[43m(\u001b[49m\u001b[38;5;28;43minput\u001b[39;49m\u001b[43m,\u001b[49m\u001b[43m \u001b[49m\u001b[43mtarget\u001b[49m\u001b[43m,\u001b[49m\u001b[43m \u001b[49m\u001b[43mreduction\u001b[49m\u001b[38;5;241;43m=\u001b[39;49m\u001b[38;5;28;43mself\u001b[39;49m\u001b[38;5;241;43m.\u001b[39;49m\u001b[43mreduction\u001b[49m\u001b[43m)\u001b[49m\n",
      "File \u001b[0;32m~/opt/anaconda3/lib/python3.9/site-packages/torch/nn/functional.py:3279\u001b[0m, in \u001b[0;36mmse_loss\u001b[0;34m(input, target, size_average, reduce, reduction)\u001b[0m\n\u001b[1;32m   3276\u001b[0m \u001b[38;5;28;01mif\u001b[39;00m size_average \u001b[38;5;129;01mis\u001b[39;00m \u001b[38;5;129;01mnot\u001b[39;00m \u001b[38;5;28;01mNone\u001b[39;00m \u001b[38;5;129;01mor\u001b[39;00m reduce \u001b[38;5;129;01mis\u001b[39;00m \u001b[38;5;129;01mnot\u001b[39;00m \u001b[38;5;28;01mNone\u001b[39;00m:\n\u001b[1;32m   3277\u001b[0m     reduction \u001b[38;5;241m=\u001b[39m _Reduction\u001b[38;5;241m.\u001b[39mlegacy_get_string(size_average, reduce)\n\u001b[0;32m-> 3279\u001b[0m expanded_input, expanded_target \u001b[38;5;241m=\u001b[39m \u001b[43mtorch\u001b[49m\u001b[38;5;241;43m.\u001b[39;49m\u001b[43mbroadcast_tensors\u001b[49m\u001b[43m(\u001b[49m\u001b[38;5;28;43minput\u001b[39;49m\u001b[43m,\u001b[49m\u001b[43m \u001b[49m\u001b[43mtarget\u001b[49m\u001b[43m)\u001b[49m\n\u001b[1;32m   3280\u001b[0m \u001b[38;5;28;01mreturn\u001b[39;00m torch\u001b[38;5;241m.\u001b[39m_C\u001b[38;5;241m.\u001b[39m_nn\u001b[38;5;241m.\u001b[39mmse_loss(expanded_input, expanded_target, _Reduction\u001b[38;5;241m.\u001b[39mget_enum(reduction))\n",
      "File \u001b[0;32m~/opt/anaconda3/lib/python3.9/site-packages/torch/functional.py:73\u001b[0m, in \u001b[0;36mbroadcast_tensors\u001b[0;34m(*tensors)\u001b[0m\n\u001b[1;32m     71\u001b[0m \u001b[38;5;28;01mif\u001b[39;00m has_torch_function(tensors):\n\u001b[1;32m     72\u001b[0m     \u001b[38;5;28;01mreturn\u001b[39;00m handle_torch_function(broadcast_tensors, tensors, \u001b[38;5;241m*\u001b[39mtensors)\n\u001b[0;32m---> 73\u001b[0m \u001b[38;5;28;01mreturn\u001b[39;00m \u001b[43m_VF\u001b[49m\u001b[38;5;241;43m.\u001b[39;49m\u001b[43mbroadcast_tensors\u001b[49m\u001b[43m(\u001b[49m\u001b[43mtensors\u001b[49m\u001b[43m)\u001b[49m\n",
      "\u001b[0;31mRuntimeError\u001b[0m: The size of tensor a (4) must match the size of tensor b (6987) at non-singleton dimension 1"
     ]
    }
   ],
   "source": [
    "train(tcn, X, y)"
   ]
  },
  {
   "cell_type": "code",
   "execution_count": null,
   "id": "790bc3b8",
   "metadata": {},
   "outputs": [
    {
     "data": {
      "text/html": [
       "\n",
       "<style>\n",
       "    /* Turns off some styling */\n",
       "    progress {\n",
       "        /* gets rid of default border in Firefox and Opera. */\n",
       "        border: none;\n",
       "        /* Needs to be in here for Safari polyfill so background images work as expected. */\n",
       "        background-size: auto;\n",
       "    }\n",
       "    progress:not([value]), progress:not([value])::-webkit-progress-bar {\n",
       "        background: repeating-linear-gradient(45deg, #7e7e7e, #7e7e7e 10px, #5c5c5c 10px, #5c5c5c 20px);\n",
       "    }\n",
       "    .progress-bar-interrupted, .progress-bar-interrupted::-webkit-progress-bar {\n",
       "        background: #F44336;\n",
       "    }\n",
       "</style>\n"
      ],
      "text/plain": [
       "<IPython.core.display.HTML object>"
      ]
     },
     "metadata": {},
     "output_type": "display_data"
    },
    {
     "data": {
      "text/html": [
       "\n",
       "    <div>\n",
       "      <progress value='7' class='' max='500' style='width:300px; height:20px; vertical-align: middle;'></progress>\n",
       "      1.40% [7/500 00:37&lt;43:26]\n",
       "    </div>\n",
       "    "
      ],
      "text/plain": [
       "<IPython.core.display.HTML object>"
      ]
     },
     "metadata": {},
     "output_type": "display_data"
    },
    {
     "name": "stdout",
     "output_type": "stream",
     "text": [
      "Epoch: 1, loss: 0.16403 valid loss:  0.16434 \n"
     ]
    }
   ],
   "source": [
    "X_train, X_test, y_train, y_test = train_test_split(X, y, test_size = 0.2)\n",
    "    \n",
    "    \n",
    "X_train = Variable(torch.tensor(X_train))\n",
    "X_test = Variable(torch.tensor(X_test))\n",
    "y_train = Variable(torch.tensor(y_train))\n",
    "y_test = Variable(torch.tensor(y_test))\n",
    "    \n",
    "    \n",
    "for i in progress_bar(range(1, 501)):\n",
    "    lstm.train()\n",
    "    output = lstm(X_train.float())\n",
    "    optimizer.zero_grad()\n",
    "        \n",
    "    loss = criterion(output, y_train.float())\n",
    "    loss.backward()\n",
    "    optimizer.step()\n",
    "        \n",
    "    lstm.eval()\n",
    "    valid = lstm(X_test.float())\n",
    "    val_loss = criterion(valid, y_test.float())\n",
    "    scheduler.step(val_loss)\n",
    "    \n",
    "    if i == 1 or i % 50 == 0:\n",
    "        print(\"Epoch: %d, loss: %1.5f valid loss:  %1.5f \" %(i, loss.cpu().item(),val_loss.cpu().item()))"
   ]
  },
  {
   "cell_type": "code",
   "execution_count": 70,
   "id": "b4558de4",
   "metadata": {},
   "outputs": [],
   "source": [
    "def graph_predictions(data, title):\n",
    "    fig, axes = plt.subplots(3, 3, figsize=(20, 12))\n",
    "    i = 0\n",
    "    j = 0\n",
    "    fig.suptitle('Graphs for ' + title + ' Data')\n",
    "    \n",
    "    for n in data:\n",
    "        if i < 3:\n",
    "    \n",
    "            with open('/Users/tarsur909/Documents/PythonStuff/data/data' + str(format(n / 100.0, '.2f')) + '.txt') as f:\n",
    "                df = create_df(f)\n",
    "\n",
    "            X, y = create_xy(df)\n",
    "            lstm.eval()\n",
    "            X = Variable(torch.tensor(X))\n",
    "            whole = lstm(X.float())\n",
    "            whole = whole.detach().numpy()\n",
    "            whole = whole.flatten()\n",
    "            result = pd.DataFrame(data = {'predictions': whole, 'real': y.flatten()})\n",
    "    \n",
    "            sns.lineplot(ax = axes[i, j], data = result).set(title='Des Vel of ' + str(format(n / 100.0, '.2f')))\n",
    "    \n",
    "            j += 1\n",
    "            \n",
    "            if j > 2:\n",
    "                j = 0\n",
    "                i += 1\n",
    "        else: \n",
    "            break\n",
    "            \n",
    "        "
   ]
  },
  {
   "cell_type": "code",
   "execution_count": 71,
   "id": "95fe641b",
   "metadata": {},
   "outputs": [
    {
     "ename": "NameError",
     "evalue": "name 'lstm' is not defined",
     "output_type": "error",
     "traceback": [
      "\u001b[0;31m---------------------------------------------------------------------------\u001b[0m",
      "\u001b[0;31mNameError\u001b[0m                                 Traceback (most recent call last)",
      "Input \u001b[0;32mIn [71]\u001b[0m, in \u001b[0;36m<cell line: 1>\u001b[0;34m()\u001b[0m\n\u001b[0;32m----> 1\u001b[0m \u001b[43mgraph_predictions\u001b[49m\u001b[43m(\u001b[49m\u001b[43mtest\u001b[49m\u001b[43m,\u001b[49m\u001b[43m \u001b[49m\u001b[38;5;124;43m'\u001b[39;49m\u001b[38;5;124;43mTest\u001b[39;49m\u001b[38;5;124;43m'\u001b[39;49m\u001b[43m)\u001b[49m\n",
      "Input \u001b[0;32mIn [70]\u001b[0m, in \u001b[0;36mgraph_predictions\u001b[0;34m(data, title)\u001b[0m\n\u001b[1;32m     11\u001b[0m     df \u001b[38;5;241m=\u001b[39m create_df(f)\n\u001b[1;32m     13\u001b[0m X, y \u001b[38;5;241m=\u001b[39m create_xy(df)\n\u001b[0;32m---> 14\u001b[0m \u001b[43mlstm\u001b[49m\u001b[38;5;241m.\u001b[39meval()\n\u001b[1;32m     15\u001b[0m X \u001b[38;5;241m=\u001b[39m Variable(torch\u001b[38;5;241m.\u001b[39mtensor(X))\n\u001b[1;32m     16\u001b[0m whole \u001b[38;5;241m=\u001b[39m lstm(X\u001b[38;5;241m.\u001b[39mfloat())\n",
      "\u001b[0;31mNameError\u001b[0m: name 'lstm' is not defined"
     ]
    },
    {
     "data": {
      "image/png": "[encoded data removed]",
      "text/plain": [
       "<Figure size 1440x864 with 9 Axes>"
      ]
     },
     "metadata": {
      "needs_background": "light"
     },
     "output_type": "display_data"
    }
   ],
   "source": [
    "graph_predictions(test, 'Test')"
   ]
  },
  {
   "cell_type": "code",
   "execution_count": null,
   "id": "37e80009",
   "metadata": {},
   "outputs": [],
   "source": [
    "graph_predictions(train, 'Train')"
   ]
  },
  {
   "cell_type": "code",
   "execution_count": null,
   "id": "6ab0113a",
   "metadata": {},
   "outputs": [],
   "source": []
  }
 ],
 "metadata": {
  "kernelspec": {
   "display_name": "Python 3 (ipykernel)",
   "language": "python",
   "name": "python3"
  },
  "language_info": {
   "codemirror_mode": {
    "name": "ipython",
    "version": 3
   },
   "file_extension": ".py",
   "mimetype": "text/x-python",
   "name": "python",
   "nbconvert_exporter": "python",
   "pygments_lexer": "ipython3",
   "version": "3.9.12"
  }
 },
 "nbformat": 4,
 "nbformat_minor": 5
}
